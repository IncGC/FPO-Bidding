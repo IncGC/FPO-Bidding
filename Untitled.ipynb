{
 "cells": [
  {
   "cell_type": "code",
   "execution_count": 327,
   "id": "94ed455a",
   "metadata": {},
   "outputs": [],
   "source": [
    "import pandas as pd"
   ]
  },
  {
   "cell_type": "code",
   "execution_count": 328,
   "id": "124f5508",
   "metadata": {},
   "outputs": [
    {
     "data": {
      "text/html": [
       "<div>\n",
       "<style scoped>\n",
       "    .dataframe tbody tr th:only-of-type {\n",
       "        vertical-align: middle;\n",
       "    }\n",
       "\n",
       "    .dataframe tbody tr th {\n",
       "        vertical-align: top;\n",
       "    }\n",
       "\n",
       "    .dataframe thead th {\n",
       "        text-align: right;\n",
       "    }\n",
       "</style>\n",
       "<table border=\"1\" class=\"dataframe\">\n",
       "  <thead>\n",
       "    <tr style=\"text-align: right;\">\n",
       "      <th></th>\n",
       "      <th>mobile_number</th>\n",
       "      <th>acres</th>\n",
       "      <th>crop_name</th>\n",
       "      <th>month_fertlizer</th>\n",
       "      <th>kg_fertlizer</th>\n",
       "      <th>month_pesticides</th>\n",
       "      <th>ltr_pesticides</th>\n",
       "      <th>kg_seeds</th>\n",
       "      <th>month_seeds</th>\n",
       "      <th>fpo_name</th>\n",
       "      <th>warehouse_location</th>\n",
       "    </tr>\n",
       "  </thead>\n",
       "  <tbody>\n",
       "    <tr>\n",
       "      <th>0</th>\n",
       "      <td>7299859147</td>\n",
       "      <td>4</td>\n",
       "      <td>cotton</td>\n",
       "      <td>January</td>\n",
       "      <td>8</td>\n",
       "      <td>December</td>\n",
       "      <td>9</td>\n",
       "      <td>6</td>\n",
       "      <td>March</td>\n",
       "      <td>seeds</td>\n",
       "      <td>virudhunagar</td>\n",
       "    </tr>\n",
       "    <tr>\n",
       "      <th>1</th>\n",
       "      <td>8928282828</td>\n",
       "      <td>1</td>\n",
       "      <td>paddy</td>\n",
       "      <td>January</td>\n",
       "      <td>3</td>\n",
       "      <td>March</td>\n",
       "      <td>4</td>\n",
       "      <td>6</td>\n",
       "      <td>March</td>\n",
       "      <td>seeds</td>\n",
       "      <td>virudhunagar</td>\n",
       "    </tr>\n",
       "    <tr>\n",
       "      <th>2</th>\n",
       "      <td>1811919198</td>\n",
       "      <td>1</td>\n",
       "      <td>paddy</td>\n",
       "      <td>January</td>\n",
       "      <td>3</td>\n",
       "      <td>March</td>\n",
       "      <td>1</td>\n",
       "      <td>6</td>\n",
       "      <td>March</td>\n",
       "      <td>dharani</td>\n",
       "      <td>hyd</td>\n",
       "    </tr>\n",
       "    <tr>\n",
       "      <th>3</th>\n",
       "      <td>1828373733</td>\n",
       "      <td>8</td>\n",
       "      <td>sugarcane</td>\n",
       "      <td>February</td>\n",
       "      <td>3</td>\n",
       "      <td>February</td>\n",
       "      <td>1</td>\n",
       "      <td>6</td>\n",
       "      <td>February</td>\n",
       "      <td>seeds</td>\n",
       "      <td>virudhunagar</td>\n",
       "    </tr>\n",
       "  </tbody>\n",
       "</table>\n",
       "</div>"
      ],
      "text/plain": [
       "   mobile_number  acres  crop_name month_fertlizer  kg_fertlizer  \\\n",
       "0     7299859147      4     cotton         January             8   \n",
       "1     8928282828      1      paddy         January             3   \n",
       "2     1811919198      1      paddy         January             3   \n",
       "3     1828373733      8  sugarcane        February             3   \n",
       "\n",
       "  month_pesticides  ltr_pesticides  kg_seeds month_seeds fpo_name  \\\n",
       "0         December               9         6       March    seeds   \n",
       "1            March               4         6       March    seeds   \n",
       "2            March               1         6       March  dharani   \n",
       "3         February               1         6    February    seeds   \n",
       "\n",
       "  warehouse_location  \n",
       "0       virudhunagar  \n",
       "1       virudhunagar  \n",
       "2                hyd  \n",
       "3       virudhunagar  "
      ]
     },
     "execution_count": 328,
     "metadata": {},
     "output_type": "execute_result"
    }
   ],
   "source": [
    "farmer = pd.read_excel(\"farmer_sheet.xlsx\")\n",
    "farmer"
   ]
  },
  {
   "cell_type": "code",
   "execution_count": 329,
   "id": "973f5913",
   "metadata": {},
   "outputs": [],
   "source": [
    "def farmer_count(farmer):\n",
    "    return {\"farmers_count\":len(farmer['mobile_number'])}"
   ]
  },
  {
   "cell_type": "code",
   "execution_count": 369,
   "id": "f05daa1d",
   "metadata": {},
   "outputs": [
    {
     "data": {
      "text/plain": [
       "[{'label': 'dharani', 'value': [6]}, {'label': 'seeds', 'value': [6, 12]}]"
      ]
     },
     "execution_count": 369,
     "metadata": {},
     "output_type": "execute_result"
    }
   ],
   "source": [
    "def pesticides(farmer):\n",
    "    mydict={}\n",
    "    farmer = farmer.groupby(['fpo_name','month_pesticides'])['ltr_pesticides'].sum()\n",
    "    result = []\n",
    "    for k,v in farmer.to_dict().items():\n",
    "        t = k\n",
    "        t = t + (v,)\n",
    "        result.append(t)\n",
    "    a=[]\n",
    "    b=[]\n",
    "    c=[]\n",
    "    for a1,b1,c1 in tuple(result):\n",
    "        a.append(a1)\n",
    "        b.append(b1)\n",
    "        c.append(c1)\n",
    "    data = {'fpo_name':a,\n",
    "            'month':b,\n",
    "           'values':c}\n",
    "    new_df = pd.DataFrame(data)\n",
    "    new_df = new_df.groupby('fpo_name')['values']\n",
    "    re = []\n",
    "    for k1,k2 in new_df.apply(list).to_dict().items():\n",
    "        re.append({\"label\":k1,\"value\":k2})\n",
    "    return re\n",
    "\n",
    "def fertlizer(farmer):\n",
    "    mydict={}\n",
    "    farmer = farmer.groupby(['fpo_name','month_fertlizer'])['kg_fertlizer'].sum()\n",
    "    result = []\n",
    "    for k,v in farmer.to_dict().items():\n",
    "        t = k\n",
    "        t = t + (v,)\n",
    "        result.append(t)\n",
    "    a=[]\n",
    "    b=[]\n",
    "    c=[]\n",
    "    for a1,b1,c1 in tuple(result):\n",
    "        a.append(a1)\n",
    "        b.append(b1)\n",
    "        c.append(c1)\n",
    "    data = {'fpo_name':a,\n",
    "            'month':b,\n",
    "           'values':c}\n",
    "    new_df = pd.DataFrame(data)\n",
    "    new_df = new_df.groupby('fpo_name')['values']\n",
    "    re = []\n",
    "    for k1,k2 in new_df.apply(list).to_dict().items():\n",
    "        re.append({\"label\":k1,\"value\":k2})\n",
    "    return re\n",
    "def seeds(farmer):\n",
    "    mydict={}\n",
    "    farmer = farmer.groupby(['fpo_name','month_seeds'])['kg_seeds'].sum()\n",
    "    result = []\n",
    "    for k,v in farmer.to_dict().items():\n",
    "        t = k\n",
    "        t = t + (v,)\n",
    "        result.append(t)\n",
    "    a=[]\n",
    "    b=[]\n",
    "    c=[]\n",
    "    for a1,b1,c1 in tuple(result):\n",
    "        a.append(a1)\n",
    "        b.append(b1)\n",
    "        c.append(c1)\n",
    "    data = {'fpo_name':a,\n",
    "            'month':b,\n",
    "           'values':c}\n",
    "    new_df = pd.DataFrame(data)\n",
    "    new_df = new_df.groupby('fpo_name')['values']\n",
    "    re = []\n",
    "    for k1,k2 in new_df.apply(list).to_dict().items():\n",
    "        re.append({\"label\":k1,\"value\":k2})\n",
    "    return re\n",
    "seeds(farmer)"
   ]
  },
  {
   "cell_type": "code",
   "execution_count": 376,
   "id": "d6096f8b",
   "metadata": {},
   "outputs": [],
   "source": [
    "def bar_chart():\n",
    "    data = {\"type\":\"bar\",\n",
    "    \"dataset\":\n",
    "    {\n",
    "        \"pesticides\":[{\n",
    "        \"dataset\":pesticides(farmer)\n",
    "    }],\n",
    "          \"seeds\":[{\n",
    "        \"dataset\":seeds(farmer)\n",
    "    }],\n",
    "          \"fertlizer\":[{\n",
    "        \"dataset\":fertlizer(farmer)\n",
    "    }]\n",
    "    }}\n",
    "    return data"
   ]
  },
  {
   "cell_type": "code",
   "execution_count": 377,
   "id": "e7b1614d",
   "metadata": {},
   "outputs": [
    {
     "data": {
      "text/plain": [
       "{'chat_type': 'bar',\n",
       " 'dataset': {'pesticides': [{'dataset': [{'label': 'dharani', 'value': [1]},\n",
       "     {'label': 'seeds', 'value': [9, 1, 4]}]}],\n",
       "  'seeds': [{'dataset': [{'label': 'dharani', 'value': [6]},\n",
       "     {'label': 'seeds', 'value': [6, 12]}]}],\n",
       "  'fertlizer': [{'dataset': [{'label': 'dharani', 'value': [3]},\n",
       "     {'label': 'seeds', 'value': [3, 11]}]}]}}"
      ]
     },
     "execution_count": 377,
     "metadata": {},
     "output_type": "execute_result"
    }
   ],
   "source": [
    "bar_chart()"
   ]
  },
  {
   "cell_type": "code",
   "execution_count": 442,
   "id": "2538ccc1",
   "metadata": {},
   "outputs": [],
   "source": [
    "bid_report = pd.read_excel(\"bid_data.xlsx\")"
   ]
  },
  {
   "cell_type": "code",
   "execution_count": 443,
   "id": "d58a636e",
   "metadata": {},
   "outputs": [
    {
     "data": {
      "text/html": [
       "<div>\n",
       "<style scoped>\n",
       "    .dataframe tbody tr th:only-of-type {\n",
       "        vertical-align: middle;\n",
       "    }\n",
       "\n",
       "    .dataframe tbody tr th {\n",
       "        vertical-align: top;\n",
       "    }\n",
       "\n",
       "    .dataframe thead th {\n",
       "        text-align: right;\n",
       "    }\n",
       "</style>\n",
       "<table border=\"1\" class=\"dataframe\">\n",
       "  <thead>\n",
       "    <tr style=\"text-align: right;\">\n",
       "      <th></th>\n",
       "      <th>company_name</th>\n",
       "      <th>bid_status</th>\n",
       "      <th>product_name</th>\n",
       "      <th>fpo_name</th>\n",
       "      <th>warehouse_loc</th>\n",
       "      <th>amount</th>\n",
       "    </tr>\n",
       "  </thead>\n",
       "  <tbody>\n",
       "    <tr>\n",
       "      <th>0</th>\n",
       "      <td>company1</td>\n",
       "      <td>lost</td>\n",
       "      <td>fertlizer</td>\n",
       "      <td>seeds</td>\n",
       "      <td>madurai</td>\n",
       "      <td>15000</td>\n",
       "    </tr>\n",
       "    <tr>\n",
       "      <th>1</th>\n",
       "      <td>company1</td>\n",
       "      <td>won</td>\n",
       "      <td>seed</td>\n",
       "      <td>dharani</td>\n",
       "      <td>hyd</td>\n",
       "      <td>76889</td>\n",
       "    </tr>\n",
       "    <tr>\n",
       "      <th>2</th>\n",
       "      <td>company2</td>\n",
       "      <td>lost</td>\n",
       "      <td>seed</td>\n",
       "      <td>seeds</td>\n",
       "      <td>madurai</td>\n",
       "      <td>70000</td>\n",
       "    </tr>\n",
       "    <tr>\n",
       "      <th>3</th>\n",
       "      <td>company3</td>\n",
       "      <td>won</td>\n",
       "      <td>pesticides</td>\n",
       "      <td>dharani</td>\n",
       "      <td>hyd</td>\n",
       "      <td>90000</td>\n",
       "    </tr>\n",
       "  </tbody>\n",
       "</table>\n",
       "</div>"
      ],
      "text/plain": [
       "  company_name bid_status product_name fpo_name warehouse_loc  amount\n",
       "0     company1       lost    fertlizer    seeds       madurai   15000\n",
       "1     company1        won         seed  dharani           hyd   76889\n",
       "2     company2       lost         seed    seeds       madurai   70000\n",
       "3     company3        won   pesticides  dharani           hyd   90000"
      ]
     },
     "execution_count": 443,
     "metadata": {},
     "output_type": "execute_result"
    }
   ],
   "source": [
    "bid_report"
   ]
  },
  {
   "cell_type": "code",
   "execution_count": 444,
   "id": "bcdd8d57",
   "metadata": {},
   "outputs": [],
   "source": [
    "def bid_status(bid_report):\n",
    "    submitted=len(bid_report['company_name'])\n",
    "    lost = bid_report.loc[bid_report.bid_status == 'lost', 'bid_status'].count()\n",
    "    won = bid_report.loc[bid_report.bid_status == 'won', 'bid_status'].count()\n",
    "    return {\"type\":\"pie\",\"dataset\":[submitted,lost,won]}\n",
    "import json\n"
   ]
  },
  {
   "cell_type": "code",
   "execution_count": 445,
   "id": "404cf6c7",
   "metadata": {},
   "outputs": [],
   "source": [
    "def top_bid(bid_report):\n",
    "    dt = bid_report.sort_values(\"amount\", ascending=False)\n",
    "    return {\"type\":\"top_bid\",\"dataset\":json.loads(dt[['company_name','product_name','fpo_name','amount']].to_json(orient='records'))}"
   ]
  },
  {
   "cell_type": "code",
   "execution_count": 540,
   "id": "4d0ebf10",
   "metadata": {},
   "outputs": [],
   "source": [
    "def cards(bid_report,company_name):\n",
    "    ds = []\n",
    "    a = json.loads(bid_report.loc[bid_report['company_name'] == company_name][['bid_status','product_name']].to_json(orient='records'))\n",
    "    return {\"type\":\"top_bid\",\"dataset\":a}"
   ]
  },
  {
   "cell_type": "code",
   "execution_count": 541,
   "id": "989f0f71",
   "metadata": {},
   "outputs": [
    {
     "data": {
      "text/plain": [
       "{'type': 'top_bid',\n",
       " 'dataset': [{'bid_status': 'lost', 'product_name': 'fertlizer'},\n",
       "  {'bid_status': 'won', 'product_name': 'seed'}]}"
      ]
     },
     "execution_count": 541,
     "metadata": {},
     "output_type": "execute_result"
    }
   ],
   "source": [
    "cards(bid_report,\"company1\")"
   ]
  },
  {
   "cell_type": "code",
   "execution_count": null,
   "id": "9c3f12ee",
   "metadata": {},
   "outputs": [],
   "source": []
  },
  {
   "cell_type": "code",
   "execution_count": null,
   "id": "19fc172f",
   "metadata": {},
   "outputs": [],
   "source": []
  }
 ],
 "metadata": {
  "kernelspec": {
   "display_name": "Python 3 (ipykernel)",
   "language": "python",
   "name": "python3"
  },
  "language_info": {
   "codemirror_mode": {
    "name": "ipython",
    "version": 3
   },
   "file_extension": ".py",
   "mimetype": "text/x-python",
   "name": "python",
   "nbconvert_exporter": "python",
   "pygments_lexer": "ipython3",
   "version": "3.8.10"
  }
 },
 "nbformat": 4,
 "nbformat_minor": 5
}
